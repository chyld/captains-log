{
 "cells": [
  {
   "cell_type": "code",
   "execution_count": 1,
   "metadata": {},
   "outputs": [],
   "source": [
    "def p_atleast_2_people_share_same_birthday(n):\n",
    "    probs = []\n",
    "    for i in range(n):\n",
    "        p = (365 - i) / 365\n",
    "        probs.append(p)\n",
    "    total = 1\n",
    "    for p in probs:\n",
    "        total *= p\n",
    "    return 1 - total"
   ]
  },
  {
   "cell_type": "code",
   "execution_count": 2,
   "metadata": {},
   "outputs": [
    {
     "data": {
      "text/plain": [
       "0.5072972343239857"
      ]
     },
     "execution_count": 2,
     "metadata": {},
     "output_type": "execute_result"
    }
   ],
   "source": [
    "p_atleast_2_people_share_same_birthday(23)"
   ]
  },
  {
   "cell_type": "code",
   "execution_count": 3,
   "metadata": {},
   "outputs": [
    {
     "name": "stdout",
     "output_type": "stream",
     "text": [
      "1 0.0\n",
      "2 0.002739726027397249\n",
      "3 0.008204165884781345\n",
      "4 0.016355912466550215\n",
      "5 0.02713557369979347\n",
      "6 0.040462483649111425\n",
      "7 0.056235703095975365\n",
      "8 0.07433529235166902\n",
      "9 0.09462383388916673\n",
      "10 0.11694817771107768\n",
      "11 0.14114137832173312\n",
      "12 0.1670247888380645\n",
      "13 0.19441027523242949\n",
      "14 0.2231025120049731\n",
      "15 0.25290131976368646\n",
      "16 0.2836040052528501\n",
      "17 0.3150076652965609\n",
      "18 0.3469114178717896\n",
      "19 0.37911852603153695\n",
      "20 0.41143838358058027\n",
      "21 0.443688335165206\n",
      "22 0.4756953076625503\n",
      "23 0.5072972343239857\n",
      "24 0.538344257914529\n",
      "25 0.568699703969464\n",
      "26 0.598240820135939\n",
      "27 0.6268592822632421\n",
      "28 0.6544614723423995\n",
      "29 0.6809685374777771\n",
      "30 0.7063162427192688\n",
      "31 0.7304546337286439\n",
      "32 0.7533475278503208\n",
      "33 0.7749718541757721\n",
      "34 0.7953168646201543\n",
      "35 0.8143832388747153\n",
      "36 0.8321821063798795\n",
      "37 0.8487340082163846\n",
      "38 0.864067821082121\n",
      "39 0.878219664366722\n",
      "40 0.891231809817949\n",
      "41 0.9031516114817354\n",
      "42 0.9140304715618692\n",
      "43 0.9239228556561199\n",
      "44 0.9328853685514263\n",
      "45 0.940975899465775\n",
      "46 0.9482528433672548\n",
      "47 0.9547744028332994\n",
      "48 0.9605979728794225\n",
      "49 0.9657796093226765\n",
      "50 0.9703735795779884\n"
     ]
    }
   ],
   "source": [
    "for i in range(1, 51):\n",
    "    print(i, p_atleast_2_people_share_same_birthday(i))"
   ]
  },
  {
   "cell_type": "code",
   "execution_count": null,
   "metadata": {},
   "outputs": [],
   "source": []
  },
  {
   "cell_type": "code",
   "execution_count": null,
   "metadata": {},
   "outputs": [],
   "source": []
  }
 ],
 "metadata": {
  "kernelspec": {
   "display_name": "Python 3",
   "language": "python",
   "name": "python3"
  },
  "language_info": {
   "codemirror_mode": {
    "name": "ipython",
    "version": 3
   },
   "file_extension": ".py",
   "mimetype": "text/x-python",
   "name": "python",
   "nbconvert_exporter": "python",
   "pygments_lexer": "ipython3",
   "version": "3.6.6"
  }
 },
 "nbformat": 4,
 "nbformat_minor": 2
}
