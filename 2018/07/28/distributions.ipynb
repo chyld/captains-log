{
 "cells": [
  {
   "cell_type": "code",
   "execution_count": 1,
   "metadata": {},
   "outputs": [],
   "source": [
    "from scipy.stats import bernoulli, binom, uniform, norm\n",
    "import numpy as np\n",
    "import matplotlib.pyplot as plt\n",
    "%matplotlib inline"
   ]
  },
  {
   "cell_type": "markdown",
   "metadata": {},
   "source": [
    "# Bernoulli\n",
    "***"
   ]
  },
  {
   "cell_type": "code",
   "execution_count": 2,
   "metadata": {},
   "outputs": [],
   "source": [
    "p = 0.3\n",
    "rv1 = bernoulli(p)"
   ]
  },
  {
   "cell_type": "code",
   "execution_count": 3,
   "metadata": {},
   "outputs": [
    {
     "data": {
      "text/plain": [
       "array([1, 0, 0, 0, 1, 0, 1, 0, 0, 1, 1, 0, 1, 0, 0, 0, 1, 0, 1, 0, 1, 0,\n",
       "       0, 1, 0, 1, 0, 0, 0, 1, 0, 0, 0, 0, 1, 0, 1, 0, 1, 0, 0, 1, 0, 0,\n",
       "       0, 0, 0, 0, 0, 0, 1, 0, 0, 0, 0, 1, 1, 0, 0, 0, 0, 0, 1, 0, 0, 0,\n",
       "       1, 0, 0, 0, 1, 0, 0, 0, 0, 0, 0, 1, 0, 1, 0, 0, 0, 0, 0, 0, 0, 1,\n",
       "       0, 0, 0, 0, 0, 0, 0, 0, 0, 1, 1, 1])"
      ]
     },
     "execution_count": 3,
     "metadata": {},
     "output_type": "execute_result"
    }
   ],
   "source": [
    "rv1.rvs(100)"
   ]
  },
  {
   "cell_type": "code",
   "execution_count": 4,
   "metadata": {},
   "outputs": [
    {
     "data": {
      "text/plain": [
       "(array(0.3), array(0.21), array(0.87287156), array(-1.23809524))"
      ]
     },
     "execution_count": 4,
     "metadata": {},
     "output_type": "execute_result"
    }
   ],
   "source": [
    "rv1.stats('mvsk')"
   ]
  },
  {
   "cell_type": "code",
   "execution_count": 5,
   "metadata": {},
   "outputs": [
    {
     "data": {
      "text/plain": [
       "array([0.7, 0.3])"
      ]
     },
     "execution_count": 5,
     "metadata": {},
     "output_type": "execute_result"
    }
   ],
   "source": [
    "rv1.pmf([0,1])"
   ]
  },
  {
   "cell_type": "code",
   "execution_count": 6,
   "metadata": {},
   "outputs": [
    {
     "data": {
      "text/plain": [
       "array([0.7, 1. ])"
      ]
     },
     "execution_count": 6,
     "metadata": {},
     "output_type": "execute_result"
    }
   ],
   "source": [
    "rv1.cdf([0,1]) # Cumulative distribution function"
   ]
  },
  {
   "cell_type": "code",
   "execution_count": null,
   "metadata": {},
   "outputs": [],
   "source": []
  },
  {
   "cell_type": "markdown",
   "metadata": {},
   "source": [
    "# Binomial\n",
    "***"
   ]
  },
  {
   "cell_type": "code",
   "execution_count": 7,
   "metadata": {},
   "outputs": [],
   "source": [
    "# A new pill is created that cures cancer, however, it has downsides. If you take this pill\n",
    "# it has a 95% chance of curing you, otherwise the pill is fatal due to side effects.\n",
    "# Let's say you distribute a pill to 40 different individuals that have cancer. Each person\n",
    "# takes the pill.\n",
    "# What is the probability that between 1 and 3 people will die?\n",
    "# If each death results in a $7M settlement, what is the expected payout?"
   ]
  },
  {
   "cell_type": "code",
   "execution_count": 8,
   "metadata": {},
   "outputs": [],
   "source": [
    "n = 40\n",
    "p = 0.05\n",
    "rv2 = binom(n, p)"
   ]
  },
  {
   "cell_type": "code",
   "execution_count": 9,
   "metadata": {},
   "outputs": [
    {
     "data": {
      "text/plain": [
       "(array(2.), array(1.9), array(0.65292863), array(0.37631579))"
      ]
     },
     "execution_count": 9,
     "metadata": {},
     "output_type": "execute_result"
    }
   ],
   "source": [
    "rv2.stats('mvsk')"
   ]
  },
  {
   "cell_type": "code",
   "execution_count": 10,
   "metadata": {},
   "outputs": [
    {
     "data": {
      "text/plain": [
       "array([2, 3, 1, 2, 4, 0, 2, 0, 2, 1, 1, 1, 3, 3, 2, 0, 2, 3, 4, 1, 1, 5,\n",
       "       2, 0, 1, 6, 1, 2, 1, 3, 1, 4, 2, 1, 1, 3, 1, 1, 3, 1])"
      ]
     },
     "execution_count": 10,
     "metadata": {},
     "output_type": "execute_result"
    }
   ],
   "source": [
    "# get 40 samples from the distribution\n",
    "# each value represents the number of people out of 40 that will die from the drug\n",
    "rv2.rvs(n)"
   ]
  },
  {
   "cell_type": "code",
   "execution_count": 11,
   "metadata": {},
   "outputs": [
    {
     "data": {
      "text/plain": [
       "array([1.28512157e-01, 2.70551909e-01, 2.77671696e-01, 1.85114464e-01,\n",
       "       9.01215152e-02, 3.41513110e-02, 1.04850516e-02, 2.68038914e-03,\n",
       "       5.81926590e-04, 1.08898543e-04, 1.77676570e-05, 2.55038139e-06,\n",
       "       3.24390616e-07, 3.67730253e-08, 3.73260031e-09, 3.40517923e-10,\n",
       "       2.80031186e-11, 2.08072708e-12, 1.39931938e-13, 8.52770815e-15,\n",
       "       4.71268082e-16, 2.36224603e-17, 1.07374819e-18, 4.42276144e-20,\n",
       "       1.64883650e-21, 5.55397558e-23, 1.68642983e-24, 4.60234262e-26,\n",
       "       1.12463260e-27, 2.44929059e-29, 4.72670114e-31, 8.02495949e-33,\n",
       "       1.18790519e-34, 1.51566850e-36, 1.64236525e-38, 1.48183331e-40,\n",
       "       1.08321148e-42, 6.16336547e-45, 2.56095518e-47, 6.91215973e-50,\n",
       "       9.09494702e-53])"
      ]
     },
     "execution_count": 11,
     "metadata": {},
     "output_type": "execute_result"
    }
   ],
   "source": [
    "rv2.pmf(range(n+1))"
   ]
  },
  {
   "cell_type": "code",
   "execution_count": 12,
   "metadata": {},
   "outputs": [
    {
     "data": {
      "text/plain": [
       "array([0.12851216, 0.39906407, 0.67673576, 0.86185022, 0.95197174,\n",
       "       0.98612305, 0.9966081 , 0.99928849, 0.99987042, 0.99997932,\n",
       "       0.99999708, 0.99999963, 0.99999996, 1.        , 1.        ,\n",
       "       1.        , 1.        , 1.        , 1.        , 1.        ,\n",
       "       1.        , 1.        , 1.        , 1.        , 1.        ,\n",
       "       1.        , 1.        , 1.        , 1.        , 1.        ,\n",
       "       1.        , 1.        , 1.        , 1.        , 1.        ,\n",
       "       1.        , 1.        , 1.        , 1.        , 1.        ,\n",
       "       1.        ])"
      ]
     },
     "execution_count": 12,
     "metadata": {},
     "output_type": "execute_result"
    }
   ],
   "source": [
    "rv2.cdf(range(n+1))"
   ]
  },
  {
   "cell_type": "code",
   "execution_count": 13,
   "metadata": {},
   "outputs": [
    {
     "data": {
      "text/plain": [
       "array([0.27055191, 0.2776717 , 0.18511446])"
      ]
     },
     "execution_count": 13,
     "metadata": {},
     "output_type": "execute_result"
    }
   ],
   "source": [
    "probs = rv2.pmf([1, 2, 3]) # probability of death for 1 to 3 people\n",
    "probs"
   ]
  },
  {
   "cell_type": "code",
   "execution_count": 14,
   "metadata": {},
   "outputs": [
    {
     "data": {
      "text/plain": [
       "0.7333380679338366"
      ]
     },
     "execution_count": 14,
     "metadata": {},
     "output_type": "execute_result"
    }
   ],
   "source": [
    "# the probability that between 1 and 3people will die from the drug\n",
    "probs.sum()"
   ]
  },
  {
   "cell_type": "code",
   "execution_count": 15,
   "metadata": {},
   "outputs": [
    {
     "data": {
      "image/png": "[encoded data removed]",
      "text/plain": [
       "<Figure size 432x288 with 1 Axes>"
      ]
     },
     "metadata": {},
     "output_type": "display_data"
    }
   ],
   "source": [
    "plt.plot(range(n+1), rv2.pmf(range(n+1)), marker='+', alpha=0.3, color='#ff33cc', label='pmf')\n",
    "plt.plot(range(n+1), rv2.cdf(range(n+1)), marker='*', alpha=0.3, color='#33ccff', label='cdf')\n",
    "plt.legend();"
   ]
  },
  {
   "cell_type": "code",
   "execution_count": 16,
   "metadata": {},
   "outputs": [
    {
     "data": {
      "text/plain": [
       "14000000.0"
      ]
     },
     "execution_count": 16,
     "metadata": {},
     "output_type": "execute_result"
    }
   ],
   "source": [
    "# expected payout\n",
    "rv2.stats('m') * 7_000_000"
   ]
  },
  {
   "cell_type": "code",
   "execution_count": null,
   "metadata": {},
   "outputs": [],
   "source": []
  },
  {
   "cell_type": "markdown",
   "metadata": {},
   "source": [
    "# Normal\n",
    "***"
   ]
  },
  {
   "cell_type": "code",
   "execution_count": 17,
   "metadata": {},
   "outputs": [],
   "source": [
    "# you read on the internet that the average height of an adult\n",
    "# female is 5 feet 4 inches, with a standard deviation of 1/2 foot.\n",
    "# your company sells pants to shorter women. what is the probability \n",
    "# of randomly selecting a woman between 4'9\" and 5'2\" to be in your\n",
    "# commercial?\n",
    "# you company does not want to sell to the tallest, 10% of women.\n",
    "# what height is the cutoff where you will not offer your services?"
   ]
  },
  {
   "cell_type": "code",
   "execution_count": 18,
   "metadata": {},
   "outputs": [],
   "source": [
    "# mean = 60 + 4 = 64\n",
    "# std = 6\n",
    "# lower = 48 + 9 = 57\n",
    "# upper = 60 + 2 = 62\n",
    "\n",
    "rv3 = norm(64, 6)"
   ]
  },
  {
   "cell_type": "code",
   "execution_count": 19,
   "metadata": {},
   "outputs": [
    {
     "data": {
      "text/plain": [
       "(array(64.), array(36.), array(0.), array(0.))"
      ]
     },
     "execution_count": 19,
     "metadata": {},
     "output_type": "execute_result"
    }
   ],
   "source": [
    "rv3.stats('mvsk')"
   ]
  },
  {
   "cell_type": "code",
   "execution_count": 20,
   "metadata": {},
   "outputs": [
    {
     "data": {
      "image/png": "[encoded data removed]",
      "text/plain": [
       "<Figure size 432x288 with 1 Axes>"
      ]
     },
     "metadata": {},
     "output_type": "display_data"
    }
   ],
   "source": [
    "plt.plot(range(54, 74), rv3.pdf(range(54, 74)), marker='+', alpha=0.3, color='#ff33cc', label='pmf')\n",
    "plt.plot(range(54, 74), rv3.cdf(range(54, 74)), marker='*', alpha=0.3, color='#33ccff', label='cdf')\n",
    "plt.legend();"
   ]
  },
  {
   "cell_type": "code",
   "execution_count": 21,
   "metadata": {},
   "outputs": [
    {
     "data": {
      "text/plain": [
       "array([0.03366645, 0.03433614, 0.03500902, 0.03568477, 0.03636304,\n",
       "       0.03704349, 0.03772576, 0.03840949, 0.03909429, 0.0397798 ,\n",
       "       0.04046563, 0.04115137, 0.04183663, 0.042521  , 0.04320408,\n",
       "       0.04388542, 0.04456463, 0.04524125, 0.04591487, 0.04658505,\n",
       "       0.04725133, 0.04791329, 0.04857047, 0.04922242, 0.0498687 ,\n",
       "       0.05050886, 0.05114243, 0.05176898, 0.05238805, 0.0529992 ,\n",
       "       0.05360196, 0.05419591, 0.05478059, 0.05535556, 0.0559204 ,\n",
       "       0.05647466, 0.05701792, 0.05754975, 0.05806975, 0.05857751,\n",
       "       0.05907261, 0.05955468, 0.06002331, 0.06047814, 0.06091879,\n",
       "       0.06134491, 0.06175614, 0.06215215, 0.06253261, 0.0628972 ])"
      ]
     },
     "execution_count": 21,
     "metadata": {},
     "output_type": "execute_result"
    }
   ],
   "source": [
    "# cannot do because the space is NOT discrete\n",
    "rv3.pdf(np.linspace(57, 62))"
   ]
  },
  {
   "cell_type": "code",
   "execution_count": 22,
   "metadata": {},
   "outputs": [
    {
     "data": {
      "text/plain": [
       "2.4763904629507554"
      ]
     },
     "execution_count": 22,
     "metadata": {},
     "output_type": "execute_result"
    }
   ],
   "source": [
    "# wrong\n",
    "rv3.pdf(np.linspace(57, 62)).sum()"
   ]
  },
  {
   "cell_type": "code",
   "execution_count": 23,
   "metadata": {},
   "outputs": [
    {
     "data": {
      "text/plain": [
       "(0.12167250457438122, 0.36944134018176367)"
      ]
     },
     "execution_count": 23,
     "metadata": {},
     "output_type": "execute_result"
    }
   ],
   "source": [
    "# subtracting 2 areas\n",
    "a, b = rv3.cdf([57, 62])\n",
    "a, b"
   ]
  },
  {
   "cell_type": "code",
   "execution_count": 24,
   "metadata": {},
   "outputs": [
    {
     "data": {
      "text/plain": [
       "0.24776883560738244"
      ]
     },
     "execution_count": 24,
     "metadata": {},
     "output_type": "execute_result"
    }
   ],
   "source": [
    "# probabilty of selecting a woman between 57 and 62 inches\n",
    "b - a"
   ]
  },
  {
   "cell_type": "code",
   "execution_count": 25,
   "metadata": {},
   "outputs": [
    {
     "data": {
      "text/plain": [
       "71.6893093932676"
      ]
     },
     "execution_count": 25,
     "metadata": {},
     "output_type": "execute_result"
    }
   ],
   "source": [
    "# almost 6 feet is the max height of your customer\n",
    "rv3.ppf(.90)"
   ]
  },
  {
   "cell_type": "code",
   "execution_count": null,
   "metadata": {},
   "outputs": [],
   "source": []
  },
  {
   "cell_type": "code",
   "execution_count": null,
   "metadata": {},
   "outputs": [],
   "source": []
  },
  {
   "cell_type": "code",
   "execution_count": null,
   "metadata": {},
   "outputs": [],
   "source": []
  }
 ],
 "metadata": {
  "kernelspec": {
   "display_name": "Python 3",
   "language": "python",
   "name": "python3"
  },
  "language_info": {
   "codemirror_mode": {
    "name": "ipython",
    "version": 3
   },
   "file_extension": ".py",
   "mimetype": "text/x-python",
   "name": "python",
   "nbconvert_exporter": "python",
   "pygments_lexer": "ipython3",
   "version": "3.6.6"
  }
 },
 "nbformat": 4,
 "nbformat_minor": 2
}
