{
 "cells": [
  {
   "cell_type": "markdown",
   "metadata": {},
   "source": [
    "# Part 1 - MLP"
   ]
  },
  {
   "cell_type": "markdown",
   "metadata": {},
   "source": [
    "### Imports"
   ]
  },
  {
   "cell_type": "code",
   "execution_count": 601,
   "metadata": {},
   "outputs": [],
   "source": [
    "import keras\n",
    "from keras.datasets import cifar10\n",
    "import numpy as np\n",
    "import matplotlib.pyplot as plt\n",
    "from keras.utils import np_utils\n",
    "from keras.models import Sequential, Model\n",
    "from keras.callbacks import ModelCheckpoint\n",
    "from keras.layers import Conv2D, MaxPooling2D, Flatten, Dense, Dropout\n",
    "from keras.preprocessing.image import ImageDataGenerator\n",
    "import warnings\n",
    "\n",
    "warnings.filterwarnings(\"ignore\", module=\"matplotlib\")\n",
    "%matplotlib inline"
   ]
  },
  {
   "cell_type": "code",
   "execution_count": 560,
   "metadata": {},
   "outputs": [],
   "source": [
    "# split, test and train\n",
    "(x_train, y_train), (x_test, y_test) = cifar10.load_data()"
   ]
  },
  {
   "cell_type": "markdown",
   "metadata": {},
   "source": [
    "### There are 50,000 (3-channel) color 32x32 images"
   ]
  },
  {
   "cell_type": "code",
   "execution_count": 561,
   "metadata": {},
   "outputs": [
    {
     "data": {
      "text/plain": [
       "(50000, 32, 32, 3)"
      ]
     },
     "execution_count": 561,
     "metadata": {},
     "output_type": "execute_result"
    }
   ],
   "source": [
    "x_train.shape"
   ]
  },
  {
   "cell_type": "code",
   "execution_count": 562,
   "metadata": {},
   "outputs": [
    {
     "data": {
      "text/plain": [
       "(50000, 1)"
      ]
     },
     "execution_count": 562,
     "metadata": {},
     "output_type": "execute_result"
    }
   ],
   "source": [
    "y_train.shape"
   ]
  },
  {
   "cell_type": "markdown",
   "metadata": {},
   "source": [
    "### Each image is 1 of 10 possible classes"
   ]
  },
  {
   "cell_type": "code",
   "execution_count": 563,
   "metadata": {},
   "outputs": [
    {
     "data": {
      "text/plain": [
       "array([0, 1, 2, 3, 4, 5, 6, 7, 8, 9], dtype=uint8)"
      ]
     },
     "execution_count": 563,
     "metadata": {},
     "output_type": "execute_result"
    }
   ],
   "source": [
    "np.unique(y_train)"
   ]
  },
  {
   "cell_type": "code",
   "execution_count": 564,
   "metadata": {},
   "outputs": [
    {
     "data": {
      "text/plain": [
       "(32, 32, 3)"
      ]
     },
     "execution_count": 564,
     "metadata": {},
     "output_type": "execute_result"
    }
   ],
   "source": [
    "# one image\n",
    "x_train[0].shape"
   ]
  },
  {
   "cell_type": "code",
   "execution_count": 565,
   "metadata": {},
   "outputs": [
    {
     "data": {
      "text/plain": [
       "<matplotlib.image.AxesImage at 0x3cb13ee10>"
      ]
     },
     "execution_count": 565,
     "metadata": {},
     "output_type": "execute_result"
    },
    {
     "data": {
      "image/png": "[encoded data removed]",
      "text/plain": [
       "<Figure size 432x288 with 1 Axes>"
      ]
     },
     "metadata": {},
     "output_type": "display_data"
    }
   ],
   "source": [
    "plt.imshow(x_train[0])"
   ]
  },
  {
   "cell_type": "markdown",
   "metadata": {},
   "source": [
    "### Normalize all values between 0 and 1"
   ]
  },
  {
   "cell_type": "code",
   "execution_count": 566,
   "metadata": {},
   "outputs": [],
   "source": [
    "x_train_norm = x_train/255\n",
    "x_test_norm = x_test/255"
   ]
  },
  {
   "cell_type": "code",
   "execution_count": 567,
   "metadata": {},
   "outputs": [
    {
     "data": {
      "text/plain": [
       "array([ 59,  16,  25,  33,  50,  71,  97, 115, 137, 154, 154, 145, 142,\n",
       "       158, 145, 148, 149, 147, 152, 145, 143, 143, 141, 143, 149, 172,\n",
       "       202, 216, 220, 208, 180, 177], dtype=uint8)"
      ]
     },
     "execution_count": 567,
     "metadata": {},
     "output_type": "execute_result"
    }
   ],
   "source": [
    "# before normalization\n",
    "x_train[0][:,0,0]"
   ]
  },
  {
   "cell_type": "code",
   "execution_count": 568,
   "metadata": {},
   "outputs": [
    {
     "data": {
      "text/plain": [
       "array([0.23137255, 0.0627451 , 0.09803922, 0.12941176, 0.19607843,\n",
       "       0.27843137, 0.38039216, 0.45098039, 0.5372549 , 0.60392157,\n",
       "       0.60392157, 0.56862745, 0.55686275, 0.61960784, 0.56862745,\n",
       "       0.58039216, 0.58431373, 0.57647059, 0.59607843, 0.56862745,\n",
       "       0.56078431, 0.56078431, 0.55294118, 0.56078431, 0.58431373,\n",
       "       0.6745098 , 0.79215686, 0.84705882, 0.8627451 , 0.81568627,\n",
       "       0.70588235, 0.69411765])"
      ]
     },
     "execution_count": 568,
     "metadata": {},
     "output_type": "execute_result"
    }
   ],
   "source": [
    "# after normalization\n",
    "x_train_norm[0][:,0,0]"
   ]
  },
  {
   "cell_type": "markdown",
   "metadata": {},
   "source": [
    "### Get the total classes"
   ]
  },
  {
   "cell_type": "code",
   "execution_count": 569,
   "metadata": {},
   "outputs": [
    {
     "data": {
      "text/plain": [
       "10"
      ]
     },
     "execution_count": 569,
     "metadata": {},
     "output_type": "execute_result"
    }
   ],
   "source": [
    "num_classes = len(np.unique(y_train))\n",
    "num_classes"
   ]
  },
  {
   "cell_type": "markdown",
   "metadata": {},
   "source": [
    "### Turn the labels into bit vectors"
   ]
  },
  {
   "cell_type": "code",
   "execution_count": 570,
   "metadata": {},
   "outputs": [],
   "source": [
    "y_train_encode = keras.utils.to_categorical(y_train, num_classes)\n",
    "y_test_encode = keras.utils.to_categorical(y_test, num_classes)"
   ]
  },
  {
   "cell_type": "code",
   "execution_count": 571,
   "metadata": {},
   "outputs": [
    {
     "data": {
      "text/plain": [
       "array([6], dtype=uint8)"
      ]
     },
     "execution_count": 571,
     "metadata": {},
     "output_type": "execute_result"
    }
   ],
   "source": [
    "# before\n",
    "y_train[0]"
   ]
  },
  {
   "cell_type": "code",
   "execution_count": 572,
   "metadata": {},
   "outputs": [
    {
     "data": {
      "text/plain": [
       "array([0., 0., 0., 0., 0., 0., 1., 0., 0., 0.])"
      ]
     },
     "execution_count": 572,
     "metadata": {},
     "output_type": "execute_result"
    }
   ],
   "source": [
    "# after\n",
    "y_train_encode[0]"
   ]
  },
  {
   "cell_type": "markdown",
   "metadata": {},
   "source": [
    "### Split into train and validation sets"
   ]
  },
  {
   "cell_type": "code",
   "execution_count": 573,
   "metadata": {},
   "outputs": [],
   "source": [
    "(x_train_final, x_valid) = x_train_norm[5000:], x_train_norm[:5000]\n",
    "(y_train_final, y_valid) = y_train_encode[5000:], y_train_encode[:5000]"
   ]
  },
  {
   "cell_type": "code",
   "execution_count": 574,
   "metadata": {},
   "outputs": [
    {
     "data": {
      "text/plain": [
       "(45000, 32, 32, 3)"
      ]
     },
     "execution_count": 574,
     "metadata": {},
     "output_type": "execute_result"
    }
   ],
   "source": [
    "# train set\n",
    "x_train_final.shape"
   ]
  },
  {
   "cell_type": "code",
   "execution_count": 575,
   "metadata": {},
   "outputs": [
    {
     "data": {
      "text/plain": [
       "(5000, 32, 32, 3)"
      ]
     },
     "execution_count": 575,
     "metadata": {},
     "output_type": "execute_result"
    }
   ],
   "source": [
    "# validation set\n",
    "x_valid.shape"
   ]
  },
  {
   "cell_type": "code",
   "execution_count": 576,
   "metadata": {},
   "outputs": [
    {
     "data": {
      "text/plain": [
       "(32, 32, 3)"
      ]
     },
     "execution_count": 576,
     "metadata": {},
     "output_type": "execute_result"
    }
   ],
   "source": [
    "# get the shape of a single image as a 3D tensor\n",
    "input_shape = x_train_final.shape[1:]\n",
    "input_shape"
   ]
  },
  {
   "cell_type": "code",
   "execution_count": 577,
   "metadata": {},
   "outputs": [
    {
     "data": {
      "text/plain": [
       "3072"
      ]
     },
     "execution_count": 577,
     "metadata": {},
     "output_type": "execute_result"
    }
   ],
   "source": [
    "# the same image as a 0D tensor\n",
    "np.product(input_shape)"
   ]
  },
  {
   "cell_type": "markdown",
   "metadata": {},
   "source": [
    "### Creating a fully connected multilayer perceptron with dropout"
   ]
  },
  {
   "cell_type": "code",
   "execution_count": 578,
   "metadata": {},
   "outputs": [
    {
     "name": "stdout",
     "output_type": "stream",
     "text": [
      "_________________________________________________________________\n",
      "Layer (type)                 Output Shape              Param #   \n",
      "=================================================================\n",
      "flatten_23 (Flatten)         (None, 3072)              0         \n",
      "_________________________________________________________________\n",
      "dense_36 (Dense)             (None, 1000)              3073000   \n",
      "_________________________________________________________________\n",
      "dropout_15 (Dropout)         (None, 1000)              0         \n",
      "_________________________________________________________________\n",
      "dense_37 (Dense)             (None, 512)               512512    \n",
      "_________________________________________________________________\n",
      "dropout_16 (Dropout)         (None, 512)               0         \n",
      "_________________________________________________________________\n",
      "dense_38 (Dense)             (None, 10)                5130      \n",
      "=================================================================\n",
      "Total params: 3,590,642\n",
      "Trainable params: 3,590,642\n",
      "Non-trainable params: 0\n",
      "_________________________________________________________________\n"
     ]
    }
   ],
   "source": [
    "model = Sequential()\n",
    "model.add(Flatten(input_shape = input_shape))       # (32, 32, 3) -> 3072\n",
    "model.add(Dense(1000, activation='relu'))           # 3072        -> 1000\n",
    "model.add(Dropout(0.2))                             # 1000        -> 1000\n",
    "model.add(Dense(512, activation='relu'))            # 1000        -> 512\n",
    "model.add(Dropout(0.2))                             # 512         -> 512\n",
    "model.add(Dense(num_classes, activation='softmax')) # 512         -> 10\n",
    "\n",
    "model.summary()"
   ]
  },
  {
   "cell_type": "markdown",
   "metadata": {},
   "source": [
    "### Loss function, optimizer and metric"
   ]
  },
  {
   "cell_type": "code",
   "execution_count": 579,
   "metadata": {},
   "outputs": [],
   "source": [
    "model.compile(loss='categorical_crossentropy', optimizer='rmsprop', \n",
    "                  metrics=['accuracy'])"
   ]
  },
  {
   "cell_type": "markdown",
   "metadata": {},
   "source": [
    "### Creating a checkpoint class to save the best model during training"
   ]
  },
  {
   "cell_type": "code",
   "execution_count": 580,
   "metadata": {},
   "outputs": [],
   "source": [
    "checkpointer = ModelCheckpoint(filepath='MLP.weights.best.hdf5', verbose=1, \n",
    "                               save_best_only=True)"
   ]
  },
  {
   "cell_type": "markdown",
   "metadata": {},
   "source": [
    "### Training the MLP"
   ]
  },
  {
   "cell_type": "code",
   "execution_count": 581,
   "metadata": {},
   "outputs": [
    {
     "name": "stdout",
     "output_type": "stream",
     "text": [
      "Train on 45000 samples, validate on 5000 samples\n",
      "Epoch 1/1\n",
      "44928/45000 [============================>.] - ETA: 0s - loss: 2.1897 - acc: 0.2654\n",
      "Epoch 00001: val_loss improved from inf to 1.83052, saving model to MLP.weights.best.hdf5\n",
      "45000/45000 [==============================] - 38s 851us/step - loss: 2.1892 - acc: 0.2656 - val_loss: 1.8305 - val_acc: 0.3380\n"
     ]
    }
   ],
   "source": [
    "# verbose = 1\n",
    "hist = model.fit(x_train_final, y_train_final, batch_size=32, epochs=1,\n",
    "          validation_data=(x_valid, y_valid), callbacks=[checkpointer], \n",
    "          verbose=1, shuffle=True)"
   ]
  },
  {
   "cell_type": "code",
   "execution_count": 582,
   "metadata": {},
   "outputs": [
    {
     "name": "stdout",
     "output_type": "stream",
     "text": [
      "Train on 45000 samples, validate on 5000 samples\n",
      "Epoch 1/1\n",
      "\n",
      "Epoch 00001: val_loss improved from 1.83052 to 1.75204, saving model to MLP.weights.best.hdf5\n",
      " - 36s - loss: 1.8541 - acc: 0.3343 - val_loss: 1.7520 - val_acc: 0.3652\n"
     ]
    }
   ],
   "source": [
    "# verbose = 2\n",
    "hist = model.fit(x_train_final, y_train_final, batch_size=32, epochs=1,\n",
    "          validation_data=(x_valid, y_valid), callbacks=[checkpointer], \n",
    "          verbose=2, shuffle=True)"
   ]
  },
  {
   "cell_type": "code",
   "execution_count": 583,
   "metadata": {},
   "outputs": [
    {
     "name": "stdout",
     "output_type": "stream",
     "text": [
      "Train on 45000 samples, validate on 5000 samples\n",
      "Epoch 1/1\n",
      "\n",
      "Epoch 00001: val_loss improved from 1.75204 to 1.70489, saving model to MLP.weights.best.hdf5\n"
     ]
    }
   ],
   "source": [
    "# verbose = 3\n",
    "hist = model.fit(x_train_final, y_train_final, batch_size=32, epochs=1,\n",
    "          validation_data=(x_valid, y_valid), callbacks=[checkpointer], \n",
    "          verbose=3, shuffle=True)"
   ]
  },
  {
   "cell_type": "markdown",
   "metadata": {},
   "source": [
    "### Load weights from best model"
   ]
  },
  {
   "cell_type": "code",
   "execution_count": 584,
   "metadata": {},
   "outputs": [],
   "source": [
    "model.load_weights('MLP.weights.best.hdf5')"
   ]
  },
  {
   "cell_type": "markdown",
   "metadata": {},
   "source": [
    "### Get score from test set"
   ]
  },
  {
   "cell_type": "code",
   "execution_count": 585,
   "metadata": {},
   "outputs": [
    {
     "data": {
      "text/plain": [
       "0.4003"
      ]
     },
     "execution_count": 585,
     "metadata": {},
     "output_type": "execute_result"
    }
   ],
   "source": [
    "score = model.evaluate(x_test_norm, y_test_encode, verbose=0)\n",
    "score[1]"
   ]
  },
  {
   "cell_type": "markdown",
   "metadata": {},
   "source": [
    "# Part 2 - Basic CNN"
   ]
  },
  {
   "cell_type": "markdown",
   "metadata": {},
   "source": [
    "### Use the same setup as above, just swap out the model"
   ]
  },
  {
   "cell_type": "code",
   "execution_count": 586,
   "metadata": {},
   "outputs": [
    {
     "data": {
      "text/plain": [
       "(32, 32, 3)"
      ]
     },
     "execution_count": 586,
     "metadata": {},
     "output_type": "execute_result"
    }
   ],
   "source": [
    "input_shape"
   ]
  },
  {
   "cell_type": "code",
   "execution_count": 587,
   "metadata": {},
   "outputs": [
    {
     "name": "stdout",
     "output_type": "stream",
     "text": [
      "_________________________________________________________________\n",
      "Layer (type)                 Output Shape              Param #   \n",
      "=================================================================\n",
      "a (Conv2D)                   (None, 30, 30, 4)         112       \n",
      "_________________________________________________________________\n",
      "b (Flatten)                  (None, 3600)              0         \n",
      "_________________________________________________________________\n",
      "c (Dense)                    (None, 10)                36010     \n",
      "=================================================================\n",
      "Total params: 36,122\n",
      "Trainable params: 36,122\n",
      "Non-trainable params: 0\n",
      "_________________________________________________________________\n"
     ]
    }
   ],
   "source": [
    "m1 = Sequential()\n",
    "m1.add(Conv2D(filters=4, kernel_size=3, padding='valid', activation='relu', input_shape=input_shape, name='a'))\n",
    "m1.add(Flatten(name='b'))\n",
    "m1.add(Dense(10, activation='softmax', name='c'))\n",
    "m1.summary()"
   ]
  },
  {
   "cell_type": "code",
   "execution_count": 588,
   "metadata": {},
   "outputs": [],
   "source": [
    "def savefilters(layers, depth):\n",
    "    epoch = []\n",
    "    weights.append(epoch)\n",
    "    n = layers[depth].get_weights()[0].shape[-1]\n",
    "    for i in range(n):\n",
    "        w = layers[depth].get_weights()[0][:,:,:,i]\n",
    "        weights[-1].append(w)\n",
    "\n",
    "class FilterCallback(keras.callbacks.Callback):\n",
    "    def on_train_begin(self, logs={}):\n",
    "        pass        \n",
    "    def on_batch_end(self, batch, logs={}):\n",
    "        pass\n",
    "    def on_epoch_end(self, acc, loss):\n",
    "        savefilters(self.model.layers, 0)\n",
    "        \n",
    "fc = FilterCallback()"
   ]
  },
  {
   "cell_type": "code",
   "execution_count": 589,
   "metadata": {},
   "outputs": [
    {
     "name": "stdout",
     "output_type": "stream",
     "text": [
      "Train on 45000 samples, validate on 5000 samples\n",
      "Epoch 1/5\n",
      "44800/45000 [============================>.] - ETA: 0s - loss: 1.7496 - acc: 0.3847\n",
      "Epoch 00001: val_loss improved from 1.70489 to 1.69508, saving model to MLP.weights.best.hdf5\n",
      "45000/45000 [==============================] - 11s 248us/step - loss: 1.7494 - acc: 0.3847 - val_loss: 1.6951 - val_acc: 0.3908\n",
      "Epoch 2/5\n",
      "44864/45000 [============================>.] - ETA: 0s - loss: 1.5917 - acc: 0.4449\n",
      "Epoch 00002: val_loss improved from 1.69508 to 1.64311, saving model to MLP.weights.best.hdf5\n",
      "45000/45000 [==============================] - 9s 209us/step - loss: 1.5912 - acc: 0.4452 - val_loss: 1.6431 - val_acc: 0.4236\n",
      "Epoch 3/5\n",
      "44896/45000 [============================>.] - ETA: 0s - loss: 1.5396 - acc: 0.4619\n",
      "Epoch 00003: val_loss improved from 1.64311 to 1.63043, saving model to MLP.weights.best.hdf5\n",
      "45000/45000 [==============================] - 10s 222us/step - loss: 1.5399 - acc: 0.4617 - val_loss: 1.6304 - val_acc: 0.4282\n",
      "Epoch 4/5\n",
      "44928/45000 [============================>.] - ETA: 0s - loss: 1.5094 - acc: 0.4773\n",
      "Epoch 00004: val_loss improved from 1.63043 to 1.54169, saving model to MLP.weights.best.hdf5\n",
      "45000/45000 [==============================] - 10s 221us/step - loss: 1.5093 - acc: 0.4773 - val_loss: 1.5417 - val_acc: 0.4672\n",
      "Epoch 5/5\n",
      "44768/45000 [============================>.] - ETA: 0s - loss: 1.4854 - acc: 0.4806\n",
      "Epoch 00005: val_loss did not improve\n",
      "45000/45000 [==============================] - 10s 215us/step - loss: 1.4857 - acc: 0.4805 - val_loss: 1.6014 - val_acc: 0.4502\n"
     ]
    }
   ],
   "source": [
    "# verbose = 1\n",
    "weights = []\n",
    "\n",
    "m1.compile(loss='categorical_crossentropy', optimizer='rmsprop', \n",
    "                  metrics=['accuracy'])\n",
    "\n",
    "hist = m1.fit(x_train_final, y_train_final, batch_size=32, epochs=5,\n",
    "          validation_data=(x_valid, y_valid), callbacks=[checkpointer, fc], \n",
    "          verbose=1, shuffle=True)"
   ]
  },
  {
   "cell_type": "markdown",
   "metadata": {},
   "source": [
    "# Part 3 - Visualizing CNN Filters"
   ]
  },
  {
   "cell_type": "code",
   "execution_count": 590,
   "metadata": {},
   "outputs": [
    {
     "data": {
      "image/png": "[encoded data removed]",
      "text/plain": [
       "<Figure size 1440x360 with 20 Axes>"
      ]
     },
     "metadata": {},
     "output_type": "display_data"
    }
   ],
   "source": [
    "weights_t = np.array(list(zip(*weights)))\n",
    "\n",
    "if weights_t.min() < 0:\n",
    "    weights_t += abs(weights_t.min())\n",
    "\n",
    "fig = plt.figure(figsize=(20,5))\n",
    "for i, filters in enumerate(weights_t):\n",
    "    for j, fltr in enumerate(filters):\n",
    "        x = (i * len(filters) * 2) + j + 1\n",
    "        ax = fig.add_subplot(5, 30, x, xticks=[], yticks=[])\n",
    "        ax.imshow(fltr)"
   ]
  },
  {
   "cell_type": "markdown",
   "metadata": {},
   "source": [
    "# Part 4 - Visualizing CNN output"
   ]
  },
  {
   "cell_type": "code",
   "execution_count": 591,
   "metadata": {},
   "outputs": [
    {
     "data": {
      "text/plain": [
       "<matplotlib.image.AxesImage at 0x3cb820e48>"
      ]
     },
     "execution_count": 591,
     "metadata": {},
     "output_type": "execute_result"
    },
    {
     "data": {
      "image/png": "[encoded data removed]",
      "text/plain": [
       "<Figure size 432x288 with 1 Axes>"
      ]
     },
     "metadata": {},
     "output_type": "display_data"
    }
   ],
   "source": [
    "image = x_test_norm[9]\n",
    "plt.imshow(image)"
   ]
  },
  {
   "cell_type": "markdown",
   "metadata": {},
   "source": [
    "### Custom model using only layer 1"
   ]
  },
  {
   "cell_type": "code",
   "execution_count": 592,
   "metadata": {},
   "outputs": [
    {
     "data": {
      "text/plain": [
       "<keras.engine.training.Model at 0x3cc0302b0>"
      ]
     },
     "execution_count": 592,
     "metadata": {},
     "output_type": "execute_result"
    }
   ],
   "source": [
    "first_layer_model = Model(inputs=m1.input, outputs=m1.get_layer('a').output)\n",
    "first_layer_model"
   ]
  },
  {
   "cell_type": "code",
   "execution_count": 593,
   "metadata": {},
   "outputs": [],
   "source": [
    "pred = first_layer_model.predict(np.expand_dims(image, axis=0))"
   ]
  },
  {
   "cell_type": "code",
   "execution_count": 594,
   "metadata": {},
   "outputs": [
    {
     "data": {
      "text/plain": [
       "<matplotlib.image.AxesImage at 0x3ccc4a390>"
      ]
     },
     "execution_count": 594,
     "metadata": {},
     "output_type": "execute_result"
    },
    {
     "data": {
      "image/png": "[encoded data removed]",
      "text/plain": [
       "<Figure size 432x288 with 1 Axes>"
      ]
     },
     "metadata": {},
     "output_type": "display_data"
    }
   ],
   "source": [
    "plt.imshow(pred[0][:,:,0])"
   ]
  },
  {
   "cell_type": "code",
   "execution_count": 595,
   "metadata": {},
   "outputs": [
    {
     "data": {
      "text/plain": [
       "<matplotlib.image.AxesImage at 0x3ced28c50>"
      ]
     },
     "execution_count": 595,
     "metadata": {},
     "output_type": "execute_result"
    },
    {
     "data": {
      "image/png": "[encoded data removed]",
      "text/plain": [
       "<Figure size 432x288 with 1 Axes>"
      ]
     },
     "metadata": {},
     "output_type": "display_data"
    }
   ],
   "source": [
    "plt.imshow(pred[0][:,:,1])"
   ]
  },
  {
   "cell_type": "code",
   "execution_count": 596,
   "metadata": {},
   "outputs": [
    {
     "data": {
      "text/plain": [
       "<matplotlib.image.AxesImage at 0x3cef3c4e0>"
      ]
     },
     "execution_count": 596,
     "metadata": {},
     "output_type": "execute_result"
    },
    {
     "data": {
      "image/png": "[encoded data removed]",
      "text/plain": [
       "<Figure size 432x288 with 1 Axes>"
      ]
     },
     "metadata": {},
     "output_type": "display_data"
    }
   ],
   "source": [
    "plt.imshow(pred[0][:,:,2])"
   ]
  },
  {
   "cell_type": "code",
   "execution_count": 597,
   "metadata": {},
   "outputs": [
    {
     "data": {
      "text/plain": [
       "<matplotlib.image.AxesImage at 0x122d5ada0>"
      ]
     },
     "execution_count": 597,
     "metadata": {},
     "output_type": "execute_result"
    },
    {
     "data": {
      "image/png": "[encoded data removed]",
      "text/plain": [
       "<Figure size 432x288 with 1 Axes>"
      ]
     },
     "metadata": {},
     "output_type": "display_data"
    }
   ],
   "source": [
    "plt.imshow(pred[0][:,:,3])"
   ]
  },
  {
   "cell_type": "markdown",
   "metadata": {},
   "source": [
    "# Part 5 - Keras Preprocessing"
   ]
  },
  {
   "cell_type": "markdown",
   "metadata": {},
   "source": [
    "https://keras.io/preprocessing/image/"
   ]
  },
  {
   "cell_type": "markdown",
   "metadata": {},
   "source": [
    "### Split data"
   ]
  },
  {
   "cell_type": "code",
   "execution_count": 598,
   "metadata": {},
   "outputs": [],
   "source": [
    "(x_train, y_train), (x_test, y_test) = cifar10.load_data()\n",
    "y_train = np_utils.to_categorical(y_train, num_classes)\n",
    "y_test = np_utils.to_categorical(y_test, num_classes)"
   ]
  },
  {
   "cell_type": "markdown",
   "metadata": {},
   "source": [
    "### Preprocess definition"
   ]
  },
  {
   "cell_type": "code",
   "execution_count": 602,
   "metadata": {},
   "outputs": [],
   "source": [
    "datagen = ImageDataGenerator(\n",
    "    featurewise_center=True,\n",
    "    featurewise_std_normalization=True,\n",
    "    rotation_range=20,\n",
    "    width_shift_range=0.2,\n",
    "    height_shift_range=0.2,\n",
    "    horizontal_flip=True)"
   ]
  },
  {
   "cell_type": "markdown",
   "metadata": {},
   "source": [
    "### Execute Preprocessing"
   ]
  },
  {
   "cell_type": "code",
   "execution_count": 603,
   "metadata": {},
   "outputs": [],
   "source": [
    "datagen.fit(x_train)"
   ]
  },
  {
   "cell_type": "markdown",
   "metadata": {},
   "source": [
    "### Define Model"
   ]
  },
  {
   "cell_type": "code",
   "execution_count": 609,
   "metadata": {},
   "outputs": [
    {
     "name": "stdout",
     "output_type": "stream",
     "text": [
      "_________________________________________________________________\n",
      "Layer (type)                 Output Shape              Param #   \n",
      "=================================================================\n",
      "a (Conv2D)                   (None, 32, 32, 16)        208       \n",
      "_________________________________________________________________\n",
      "b (MaxPooling2D)             (None, 16, 16, 16)        0         \n",
      "_________________________________________________________________\n",
      "c (Conv2D)                   (None, 16, 16, 32)        2080      \n",
      "_________________________________________________________________\n",
      "d (MaxPooling2D)             (None, 8, 8, 32)          0         \n",
      "_________________________________________________________________\n",
      "e (Conv2D)                   (None, 8, 8, 64)          8256      \n",
      "_________________________________________________________________\n",
      "f (MaxPooling2D)             (None, 4, 4, 64)          0         \n",
      "_________________________________________________________________\n",
      "g (Dropout)                  (None, 4, 4, 64)          0         \n",
      "_________________________________________________________________\n",
      "h (Flatten)                  (None, 1024)              0         \n",
      "_________________________________________________________________\n",
      "i (Dense)                    (None, 500)               512500    \n",
      "_________________________________________________________________\n",
      "j (Dropout)                  (None, 500)               0         \n",
      "_________________________________________________________________\n",
      "k (Dense)                    (None, 10)                5010      \n",
      "=================================================================\n",
      "Total params: 528,054\n",
      "Trainable params: 528,054\n",
      "Non-trainable params: 0\n",
      "_________________________________________________________________\n"
     ]
    }
   ],
   "source": [
    "m2 = Sequential()\n",
    "\n",
    "m2.add(Conv2D(filters=16, kernel_size=2, padding='same', activation='relu', input_shape=input_shape, name='a'))\n",
    "m2.add(MaxPooling2D(pool_size=2, name='b'))\n",
    "m2.add(Conv2D(filters=32, kernel_size=2, padding='same', activation='relu', name='c'))\n",
    "m2.add(MaxPooling2D(pool_size=2, name='d'))\n",
    "m2.add(Conv2D(filters=64, kernel_size=2, padding='same', activation='relu', name='e'))\n",
    "m2.add(MaxPooling2D(pool_size=2, name='f'))\n",
    "m2.add(Dropout(0.3, name='g'))\n",
    "m2.add(Flatten(name='h'))\n",
    "m2.add(Dense(500, activation='relu', name='i'))\n",
    "m2.add(Dropout(0.4, name='j'))\n",
    "m2.add(Dense(10, activation='softmax', name='k'))\n",
    "\n",
    "m2.summary()"
   ]
  },
  {
   "cell_type": "markdown",
   "metadata": {},
   "source": [
    "### Compile Model"
   ]
  },
  {
   "cell_type": "code",
   "execution_count": 610,
   "metadata": {},
   "outputs": [],
   "source": [
    "m2.compile(loss='categorical_crossentropy', optimizer='rmsprop', metrics=['accuracy'])"
   ]
  },
  {
   "cell_type": "markdown",
   "metadata": {},
   "source": [
    "### Train model using preprocessed images"
   ]
  },
  {
   "cell_type": "code",
   "execution_count": 612,
   "metadata": {},
   "outputs": [
    {
     "name": "stdout",
     "output_type": "stream",
     "text": [
      "Epoch 1/3\n",
      "1563/1562 [==============================] - 30s 19ms/step - loss: 1.6723 - acc: 0.3898\n",
      "Epoch 2/3\n",
      "1563/1562 [==============================] - 31s 20ms/step - loss: 1.4376 - acc: 0.4805\n",
      "Epoch 3/3\n",
      "1563/1562 [==============================] - 31s 20ms/step - loss: 1.3743 - acc: 0.5100\n"
     ]
    },
    {
     "data": {
      "text/plain": [
       "<keras.callbacks.History at 0x425738940>"
      ]
     },
     "execution_count": 612,
     "metadata": {},
     "output_type": "execute_result"
    }
   ],
   "source": [
    "m2.fit_generator(datagen.flow(x_train, y_train, batch_size=32), steps_per_epoch=len(x_train)/32, epochs=3)"
   ]
  },
  {
   "cell_type": "code",
   "execution_count": null,
   "metadata": {},
   "outputs": [],
   "source": []
  }
 ],
 "metadata": {
  "kernelspec": {
   "display_name": "Python 3",
   "language": "python",
   "name": "python3"
  },
  "language_info": {
   "codemirror_mode": {
    "name": "ipython",
    "version": 3
   },
   "file_extension": ".py",
   "mimetype": "text/x-python",
   "name": "python",
   "nbconvert_exporter": "python",
   "pygments_lexer": "ipython3",
   "version": "3.6.4"
  }
 },
 "nbformat": 4,
 "nbformat_minor": 2
}
