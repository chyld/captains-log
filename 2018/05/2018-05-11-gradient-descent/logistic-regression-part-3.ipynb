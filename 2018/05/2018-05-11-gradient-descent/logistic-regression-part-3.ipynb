{
 "cells": [
  {
   "cell_type": "code",
   "execution_count": 34,
   "metadata": {},
   "outputs": [],
   "source": [
    "import numpy as np\n",
    "import matplotlib.pyplot as plt\n",
    "from sklearn.metrics import log_loss\n",
    "%matplotlib inline"
   ]
  },
  {
   "cell_type": "code",
   "execution_count": 3,
   "metadata": {},
   "outputs": [],
   "source": [
    "x = np.arange(1, 11) * 100\n",
    "y = np.array([0,0,0,0,1,1,1,1,1,1])"
   ]
  },
  {
   "cell_type": "code",
   "execution_count": 5,
   "metadata": {},
   "outputs": [
    {
     "data": {
      "image/png": "[encoded data removed]",
      "text/plain": [
       "<Figure size 432x288 with 1 Axes>"
      ]
     },
     "metadata": {},
     "output_type": "display_data"
    }
   ],
   "source": [
    "plt.scatter(x,y);"
   ]
  },
  {
   "cell_type": "code",
   "execution_count": 67,
   "metadata": {},
   "outputs": [],
   "source": [
    "def sigmoid(z):\n",
    "    return 1/(1+np.exp(-z))"
   ]
  },
  {
   "cell_type": "code",
   "execution_count": 141,
   "metadata": {},
   "outputs": [
    {
     "name": "stdout",
     "output_type": "stream",
     "text": [
      "log loss: 9.48 cross entropy: 9.48 m: 0.0990 b: 0.1000\n",
      "log loss: 0.53 cross entropy: 0.53 m: 0.0022 b: 0.0671\n",
      "log loss: 0.52 cross entropy: 0.52 m: 0.0022 b: 0.0348\n",
      "log loss: 0.52 cross entropy: 0.52 m: 0.0023 b: 0.0027\n",
      "log loss: 0.51 cross entropy: 0.51 m: 0.0023 b: -0.0290\n",
      "log loss: 0.51 cross entropy: 0.51 m: 0.0024 b: -0.0605\n",
      "log loss: 0.50 cross entropy: 0.50 m: 0.0024 b: -0.0918\n",
      "log loss: 0.50 cross entropy: 0.50 m: 0.0025 b: -0.1227\n",
      "log loss: 0.49 cross entropy: 0.49 m: 0.0025 b: -0.1534\n",
      "log loss: 0.49 cross entropy: 0.49 m: 0.0026 b: -0.1838\n"
     ]
    }
   ],
   "source": [
    "m = 0.1\n",
    "b = 0.1\n",
    "for e in range(200000):\n",
    "    # get loss\n",
    "    y_hat = sigmoid((m*x) + b)\n",
    "    actual_loss = log_loss(y, y_hat)\n",
    "    epsilon = 0.000000000000001\n",
    "    computed_loss = (y * np.log(y_hat))+ ((1-y) * np.log(1-y_hat+epsilon))\n",
    "    computed_loss = - computed_loss.mean()\n",
    "    \n",
    "    # get m and b gradient\n",
    "    g_m = ((y_hat - y) * x).mean()\n",
    "    g_b = ((y_hat - y) * 1).mean()\n",
    "    \n",
    "    # apply learning rate and update m and b\n",
    "    lr = 0.00001\n",
    "    m -= lr * g_m\n",
    "    b -= lr * g_b\n",
    "\n",
    "    # finish up\n",
    "    if e % 20000 == 0:\n",
    "        print(\"log loss: {:.2f} cross entropy: {:.2f} m: {:.4f} b: {:.4f}\".format(actual_loss, computed_loss, m, b))\n",
    "    "
   ]
  },
  {
   "cell_type": "code",
   "execution_count": 142,
   "metadata": {},
   "outputs": [],
   "source": [
    "# time for predictions"
   ]
  },
  {
   "cell_type": "code",
   "execution_count": 144,
   "metadata": {},
   "outputs": [
    {
     "data": {
      "text/plain": [
       "-0.2139430073662482"
      ]
     },
     "execution_count": 144,
     "metadata": {},
     "output_type": "execute_result"
    }
   ],
   "source": [
    "b"
   ]
  },
  {
   "cell_type": "code",
   "execution_count": 147,
   "metadata": {},
   "outputs": [
    {
     "data": {
      "text/plain": [
       "array([0.51250878, 0.57786964, 0.6406123 , 0.69888865, 0.75138261,\n",
       "       0.79737828, 0.83671372, 0.86966109, 0.89678057, 0.91878429])"
      ]
     },
     "execution_count": 147,
     "metadata": {},
     "output_type": "execute_result"
    }
   ],
   "source": [
    "sigmoid((m*x) + b)"
   ]
  },
  {
   "cell_type": "code",
   "execution_count": 148,
   "metadata": {},
   "outputs": [
    {
     "name": "stdout",
     "output_type": "stream",
     "text": [
      "0.49271276426398153\n",
      "0.5584410587701604\n",
      "0.6221834292963986\n",
      "0.6819645252442668\n",
      "0.7362956758115486\n",
      "0.7842811881771173\n",
      "0.8256031014792936\n"
     ]
    }
   ],
   "source": [
    "for i in range(70, 700, 100):\n",
    "    print(sigmoid((m*i) + b))"
   ]
  },
  {
   "cell_type": "code",
   "execution_count": null,
   "metadata": {},
   "outputs": [],
   "source": []
  }
 ],
 "metadata": {
  "kernelspec": {
   "display_name": "Python 3",
   "language": "python",
   "name": "python3"
  },
  "language_info": {
   "codemirror_mode": {
    "name": "ipython",
    "version": 3
   },
   "file_extension": ".py",
   "mimetype": "text/x-python",
   "name": "python",
   "nbconvert_exporter": "python",
   "pygments_lexer": "ipython3",
   "version": "3.6.5"
  }
 },
 "nbformat": 4,
 "nbformat_minor": 2
}
