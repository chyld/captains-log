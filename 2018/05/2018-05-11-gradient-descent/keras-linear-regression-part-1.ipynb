{
 "cells": [
  {
   "cell_type": "code",
   "execution_count": 2,
   "metadata": {},
   "outputs": [],
   "source": [
    "import keras\n",
    "import matplotlib.pyplot as plt\n",
    "%matplotlib inline"
   ]
  },
  {
   "cell_type": "code",
   "execution_count": 3,
   "metadata": {},
   "outputs": [
    {
     "data": {
      "text/plain": [
       "[]"
      ]
     },
     "execution_count": 3,
     "metadata": {},
     "output_type": "execute_result"
    }
   ],
   "source": [
    "from keras import backend as K\n",
    "K.tensorflow_backend._get_available_gpus()"
   ]
  },
  {
   "cell_type": "markdown",
   "metadata": {},
   "source": [
    "```\n",
    "pip install -U tensorflow-gpu\n",
    "pip install -U tensorflow\n",
    "pip install -U keras\n",
    "```"
   ]
  },
  {
   "cell_type": "code",
   "execution_count": 60,
   "metadata": {},
   "outputs": [],
   "source": [
    "from keras.models import Sequential\n",
    "from keras.layers import Dense\n",
    "from keras import optimizers"
   ]
  },
  {
   "cell_type": "code",
   "execution_count": 12,
   "metadata": {},
   "outputs": [],
   "source": [
    "import numpy as np"
   ]
  },
  {
   "cell_type": "code",
   "execution_count": 13,
   "metadata": {},
   "outputs": [],
   "source": [
    "x = np.arange(0,10)\n",
    "y = np.array([n*3 + np.random.normal(10) for n in x])"
   ]
  },
  {
   "cell_type": "code",
   "execution_count": 14,
   "metadata": {},
   "outputs": [
    {
     "data": {
      "text/plain": [
       "array([0, 1, 2, 3, 4, 5, 6, 7, 8, 9])"
      ]
     },
     "execution_count": 14,
     "metadata": {},
     "output_type": "execute_result"
    }
   ],
   "source": [
    "x"
   ]
  },
  {
   "cell_type": "code",
   "execution_count": 15,
   "metadata": {},
   "outputs": [
    {
     "data": {
      "text/plain": [
       "array([ 9.84787689, 12.78134515, 15.69828025, 18.91037377, 22.28814386,\n",
       "       26.17799341, 27.74106696, 32.13491503, 34.23398249, 35.43034529])"
      ]
     },
     "execution_count": 15,
     "metadata": {},
     "output_type": "execute_result"
    }
   ],
   "source": [
    "y"
   ]
  },
  {
   "cell_type": "code",
   "execution_count": 16,
   "metadata": {},
   "outputs": [
    {
     "data": {
      "image/png": "[encoded data removed]",
      "text/plain": [
       "<Figure size 432x288 with 1 Axes>"
      ]
     },
     "metadata": {},
     "output_type": "display_data"
    }
   ],
   "source": [
    "plt.scatter(x,y);"
   ]
  },
  {
   "cell_type": "code",
   "execution_count": 74,
   "metadata": {
    "scrolled": false
   },
   "outputs": [
    {
     "name": "stdout",
     "output_type": "stream",
     "text": [
      "_________________________________________________________________\n",
      "Layer (type)                 Output Shape              Param #   \n",
      "=================================================================\n",
      "dense_29 (Dense)             (None, 1)                 2         \n",
      "=================================================================\n",
      "Total params: 2\n",
      "Trainable params: 2\n",
      "Non-trainable params: 0\n",
      "_________________________________________________________________\n",
      "Train on 8 samples, validate on 2 samples\n",
      "Epoch 1/10\n",
      "8/8 [==============================] - 0s 31ms/step - loss: 429.5910 - mean_squared_error: 429.5910 - val_loss: 311.8916 - val_mean_squared_error: 311.8916\n",
      "Epoch 2/10\n",
      "8/8 [==============================] - 0s 288us/step - loss: 186.9974 - mean_squared_error: 186.9974 - val_loss: 70.7184 - val_mean_squared_error: 70.7184\n",
      "Epoch 3/10\n",
      "8/8 [==============================] - 0s 230us/step - loss: 88.7894 - mean_squared_error: 88.7894 - val_loss: 7.6345 - val_mean_squared_error: 7.6345\n",
      "Epoch 4/10\n",
      "8/8 [==============================] - 0s 252us/step - loss: 48.9435 - mean_squared_error: 48.9435 - val_loss: 3.7817 - val_mean_squared_error: 3.7817\n",
      "Epoch 5/10\n",
      "8/8 [==============================] - 0s 361us/step - loss: 32.6891 - mean_squared_error: 32.6891 - val_loss: 15.8005 - val_mean_squared_error: 15.8005\n",
      "Epoch 6/10\n",
      "8/8 [==============================] - 0s 268us/step - loss: 25.9720 - mean_squared_error: 25.9720 - val_loss: 29.1289 - val_mean_squared_error: 29.1289\n",
      "Epoch 7/10\n",
      "8/8 [==============================] - 0s 365us/step - loss: 23.1117 - mean_squared_error: 23.1117 - val_loss: 39.7563 - val_mean_squared_error: 39.7563\n",
      "Epoch 8/10\n",
      "8/8 [==============================] - 0s 290us/step - loss: 21.8118 - mean_squared_error: 21.8118 - val_loss: 47.2489 - val_mean_squared_error: 47.2489\n",
      "Epoch 9/10\n",
      "8/8 [==============================] - 0s 317us/step - loss: 21.1444 - mean_squared_error: 21.1444 - val_loss: 52.1825 - val_mean_squared_error: 52.1825\n",
      "Epoch 10/10\n",
      "8/8 [==============================] - 0s 360us/step - loss: 20.7343 - mean_squared_error: 20.7343 - val_loss: 55.2654 - val_mean_squared_error: 55.2654\n"
     ]
    }
   ],
   "source": [
    "model = Sequential()\n",
    "model.add(Dense(units=1, activation='linear', input_shape=(1,)))\n",
    "sgd = optimizers.SGD(lr=0.01)\n",
    "model.compile(loss='mse', optimizer=sgd, metrics=['mse'])\n",
    "model.summary()\n",
    "history = model.fit(x, y, epochs=10, batch_size=10, verbose=1, validation_split=0.2)"
   ]
  },
  {
   "cell_type": "code",
   "execution_count": 70,
   "metadata": {},
   "outputs": [
    {
     "data": {
      "text/plain": [
       "[array([[4.77528]], dtype=float32), array([1.4365], dtype=float32)]"
      ]
     },
     "execution_count": 70,
     "metadata": {},
     "output_type": "execute_result"
    }
   ],
   "source": [
    "history.model.get_weights()"
   ]
  },
  {
   "cell_type": "code",
   "execution_count": null,
   "metadata": {},
   "outputs": [],
   "source": []
  }
 ],
 "metadata": {
  "kernelspec": {
   "display_name": "Python 3",
   "language": "python",
   "name": "python3"
  },
  "language_info": {
   "codemirror_mode": {
    "name": "ipython",
    "version": 3
   },
   "file_extension": ".py",
   "mimetype": "text/x-python",
   "name": "python",
   "nbconvert_exporter": "python",
   "pygments_lexer": "ipython3",
   "version": "3.6.5"
  }
 },
 "nbformat": 4,
 "nbformat_minor": 2
}
