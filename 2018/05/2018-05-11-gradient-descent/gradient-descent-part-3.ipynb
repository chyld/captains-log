{
 "cells": [
  {
   "cell_type": "markdown",
   "metadata": {},
   "source": [
    "# Gradient Descent: Multilayered Perceptron (MLP)"
   ]
  },
  {
   "cell_type": "code",
   "execution_count": 1,
   "metadata": {},
   "outputs": [],
   "source": [
    "import numpy as np\n",
    "import matplotlib.pyplot as plt\n",
    "np.set_printoptions(suppress=True)\n",
    "%matplotlib inline"
   ]
  },
  {
   "cell_type": "code",
   "execution_count": 240,
   "metadata": {},
   "outputs": [],
   "source": [
    "x = np.linspace(-5, 0).reshape(50,1)"
   ]
  },
  {
   "cell_type": "code",
   "execution_count": 241,
   "metadata": {},
   "outputs": [],
   "source": [
    "def generate_sample(x):\n",
    "    return np.array([np.sin(n) + np.random.normal(10, 0.1) for n in x])"
   ]
  },
  {
   "cell_type": "code",
   "execution_count": 242,
   "metadata": {},
   "outputs": [],
   "source": [
    "y = generate_sample(x)"
   ]
  },
  {
   "cell_type": "code",
   "execution_count": 243,
   "metadata": {},
   "outputs": [
    {
     "data": {
      "image/png": "[encoded data removed]",
      "text/plain": [
       "<Figure size 432x288 with 1 Axes>"
      ]
     },
     "metadata": {},
     "output_type": "display_data"
    }
   ],
   "source": [
    "plt.scatter(x, y);"
   ]
  },
  {
   "cell_type": "code",
   "execution_count": 268,
   "metadata": {},
   "outputs": [
    {
     "name": "stdout",
     "output_type": "stream",
     "text": [
      "mse: 48.37\n",
      "mse: 0.37\n",
      "mse: 0.19\n",
      "mse: 0.11\n",
      "mse: 0.06\n",
      "mse: 0.04\n",
      "mse: 0.03\n",
      "mse: 0.03\n",
      "mse: 0.03\n",
      "mse: 0.03\n"
     ]
    }
   ],
   "source": [
    "# number of neurons in hidden layer\n",
    "p = 20\n",
    "\n",
    "# initialize layer 0\n",
    "W0 = np.random.random((1,p))\n",
    "B0 = np.random.random((1,p))\n",
    "# initialize layer 1\n",
    "W1 = np.random.random((p,1))\n",
    "B1 = np.random.random((1,1))\n",
    "\n",
    "for e in range(100):\n",
    "    #  *** FORWARD PROPAGATION ***\n",
    "    # nx2 = (nx1 * 1x2) + (1x2)\n",
    "    S0 = (x @ W0) + B0\n",
    "    # nx2 = relu(nx2)\n",
    "    A0 = np.maximum(0, S0)\n",
    "    # nx1 = (nx2 * 2x1) + (1x1)\n",
    "    y_hat = (A0 @ W1) + B1\n",
    "    # 1x1\n",
    "    mse = ((y - y_hat) ** 2).mean()\n",
    "        \n",
    "    #  *** BACKWARD PROPAGATION ***\n",
    "    # nx1 = (nx1) * scalar\n",
    "    b1_g = ((y - y_hat) * -1)\n",
    "    # 1x1 = mean(nx1)\n",
    "    b1_g = b1_g.mean().reshape(1,1)\n",
    "    \n",
    "    # nx2 = (nx1) * scalar * (nx2)\n",
    "    w1_g = ((y - y_hat) * -1) * np.maximum(0, S0)\n",
    "    # 2x1 = mean(nx2) of columns\n",
    "    w1_g = w1_g.mean(axis=0).reshape(p,1)\n",
    "\n",
    "    # nx2 = (nx1) * scalar * (nx2) == (nx2) * (1x2)\n",
    "    b0_g = ((y - y_hat) * -1) * np.maximum(0, S0).astype('bool') * W1.T\n",
    "    # 1x2 = mean(nx2) of columns\n",
    "    b0_g = b0_g.mean(axis=0).reshape(1,p)\n",
    "    \n",
    "    # nx2 = (nx1) * scalar * (nx2) == (nx2) * (1x2) * (nx1)\n",
    "    w0_g = ((y - y_hat) * -1) * np.maximum(0, S0).astype('bool') * W1.T * x\n",
    "    # 1x2 = mean(nx2) of columns\n",
    "    w0_g = w0_g.mean(axis=0).reshape(1,p)\n",
    "    \n",
    "    #  *** UPDATE GRADIENTS ***\n",
    "    lr = 0.01\n",
    "    B1 -= lr * b1_g\n",
    "    W1 -= lr * w1_g\n",
    "    B0 -= lr * b0_g\n",
    "    W0 -= lr * w0_g\n",
    "    \n",
    "    if e % 10 == 0:\n",
    "        print(\"mse: {:.2f}\".format(mse))"
   ]
  },
  {
   "cell_type": "code",
   "execution_count": 269,
   "metadata": {},
   "outputs": [],
   "source": [
    "def forward(x):\n",
    "    S0 = (x @ W0) + B0\n",
    "    A0 = np.maximum(0, S0)\n",
    "    y_hat = (A0 @ W1) + B1\n",
    "    return y_hat"
   ]
  },
  {
   "cell_type": "code",
   "execution_count": 270,
   "metadata": {},
   "outputs": [],
   "source": [
    "y_hat = forward(x)"
   ]
  },
  {
   "cell_type": "code",
   "execution_count": 271,
   "metadata": {},
   "outputs": [
    {
     "data": {
      "image/png": "[encoded data removed]",
      "text/plain": [
       "<Figure size 432x288 with 1 Axes>"
      ]
     },
     "metadata": {},
     "output_type": "display_data"
    }
   ],
   "source": [
    "plt.scatter(x, y);\n",
    "plt.scatter(x, y_hat);"
   ]
  },
  {
   "cell_type": "code",
   "execution_count": null,
   "metadata": {
    "slideshow": {
     "slide_type": "-"
    }
   },
   "outputs": [],
   "source": []
  }
 ],
 "metadata": {
  "kernelspec": {
   "display_name": "Python 3",
   "language": "python",
   "name": "python3"
  },
  "language_info": {
   "codemirror_mode": {
    "name": "ipython",
    "version": 3
   },
   "file_extension": ".py",
   "mimetype": "text/x-python",
   "name": "python",
   "nbconvert_exporter": "python",
   "pygments_lexer": "ipython3",
   "version": "3.6.4"
  }
 },
 "nbformat": 4,
 "nbformat_minor": 2
}
