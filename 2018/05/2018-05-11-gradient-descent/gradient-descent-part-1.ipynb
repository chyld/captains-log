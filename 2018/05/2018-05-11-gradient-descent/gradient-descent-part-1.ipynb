{
 "cells": [
  {
   "cell_type": "markdown",
   "metadata": {},
   "source": [
    "# Gradient Descent: 1 parameter, $ \\theta_1 $, or `m`\n",
    "### Imports"
   ]
  },
  {
   "cell_type": "code",
   "execution_count": 2,
   "metadata": {},
   "outputs": [],
   "source": [
    "import numpy as np\n",
    "import matplotlib.pyplot as plt\n",
    "np.set_printoptions(suppress=True)\n",
    "%matplotlib inline"
   ]
  },
  {
   "cell_type": "markdown",
   "metadata": {},
   "source": [
    "### Data Generation"
   ]
  },
  {
   "cell_type": "code",
   "execution_count": 3,
   "metadata": {},
   "outputs": [],
   "source": [
    "m      = 2\n",
    "x      = np.arange(-5, 5)\n",
    "y      = np.array([5*n + np.random.normal(0,1) for n in x])\n",
    "guess  = m * x\n",
    "losses = (y - (m*x)) ** 2\n",
    "slopes = (y - (m*x)) * (-2*x)"
   ]
  },
  {
   "cell_type": "markdown",
   "metadata": {},
   "source": [
    "### Basic Scatter"
   ]
  },
  {
   "cell_type": "code",
   "execution_count": 4,
   "metadata": {},
   "outputs": [
    {
     "data": {
      "image/png": "[encoded data removed]",
      "text/plain": [
       "<Figure size 432x288 with 1 Axes>"
      ]
     },
     "metadata": {},
     "output_type": "display_data"
    }
   ],
   "source": [
    "plt.scatter(x,y);\n",
    "plt.plot(x,guess,c='red');\n",
    "plt.scatter(x, slopes, c='#ff33cc', marker='*');\n",
    "plt.scatter(x, losses, c='#33cc99', marker='+');"
   ]
  },
  {
   "cell_type": "markdown",
   "metadata": {},
   "source": [
    "### Show mean gradients over a range of `m` values"
   ]
  },
  {
   "cell_type": "code",
   "execution_count": 5,
   "metadata": {},
   "outputs": [
    {
     "name": "stdout",
     "output_type": "stream",
     "text": [
      "coefficient: 3 total slope: -324.763646793\n",
      "coefficient: 4 total slope: -154.763646793\n",
      "coefficient: 5 total slope: 15.2363532073\n",
      "coefficient: 6 total slope: 185.236353207\n"
     ]
    }
   ],
   "source": [
    "for i in range(3, 7):\n",
    "    s = (y - (i*x)) * (-2*x)\n",
    "    print('coefficient:', i, 'total slope:', sum(s))"
   ]
  },
  {
   "cell_type": "markdown",
   "metadata": {},
   "source": [
    "### Function that plots `mean squared error` over a range of $ \\theta_1 $ values"
   ]
  },
  {
   "cell_type": "code",
   "execution_count": 6,
   "metadata": {},
   "outputs": [],
   "source": [
    "def plotter(x, y, m_range):\n",
    "    mses   = [((y - (m*x)) ** 2).mean()     for m in m_range]\n",
    "    slopes = [((y - (m*x)) * (-2*x)).mean() for m in m_range]\n",
    "    fig, ax = plt.subplots(nrows=1, ncols=2, figsize=(15,5))\n",
    "    ax[0].scatter(m_range, mses)\n",
    "    ax[0].plot(m_range, slopes, c='#ff33cc', marker='+')\n",
    "    ax[0].set_xlabel('m')\n",
    "    ax[0].set_ylabel('mse')\n",
    "    ax[0].set_title('mse as a function of slope')"
   ]
  },
  {
   "cell_type": "code",
   "execution_count": 7,
   "metadata": {},
   "outputs": [
    {
     "data": {
      "image/png": "[encoded data removed]",
      "text/plain": [
       "<Figure size 1080x360 with 2 Axes>"
      ]
     },
     "metadata": {},
     "output_type": "display_data"
    }
   ],
   "source": [
    "plotter(x, y, range(1, 10))"
   ]
  },
  {
   "cell_type": "markdown",
   "metadata": {},
   "source": [
    "### Gradient Descent"
   ]
  },
  {
   "cell_type": "code",
   "execution_count": 8,
   "metadata": {},
   "outputs": [
    {
     "name": "stdout",
     "output_type": "stream",
     "text": [
      "m: 1.66 mse: 130.35 grad: -66.48\n",
      "m: 2.22 mse: 89.91 grad: -55.18\n",
      "m: 2.67 mse: 62.05 grad: -45.80\n",
      "m: 3.05 mse: 42.87 grad: -38.01\n",
      "m: 3.37 mse: 29.65 grad: -31.55\n",
      "m: 3.63 mse: 20.54 grad: -26.19\n",
      "m: 3.85 mse: 14.26 grad: -21.73\n",
      "m: 4.03 mse: 9.94 grad: -18.04\n",
      "m: 4.18 mse: 6.96 grad: -14.97\n",
      "m: 4.30 mse: 4.91 grad: -12.43\n",
      "m: 4.41 mse: 3.50 grad: -10.31\n",
      "m: 4.49 mse: 2.53 grad: -8.56\n",
      "m: 4.56 mse: 1.86 grad: -7.11\n",
      "m: 4.62 mse: 1.39 grad: -5.90\n",
      "m: 4.67 mse: 1.08 grad: -4.90\n",
      "m: 4.71 mse: 0.86 grad: -4.06\n",
      "m: 4.75 mse: 0.71 grad: -3.37\n",
      "m: 4.77 mse: 0.60 grad: -2.80\n",
      "m: 4.80 mse: 0.53 grad: -2.32\n",
      "m: 4.82 mse: 0.48 grad: -1.93\n"
     ]
    }
   ],
   "source": [
    "m = 1\n",
    "for e in range(20):\n",
    "    # each epoch runs through full batch of 1 sample\n",
    "    # compute loss, forward propagation\n",
    "    mse = ((y - (m*x)) ** 2).mean()\n",
    "    # average gradient for current `m`\n",
    "    m_grad = ((y - (m*x)) * (-2*x)).mean()\n",
    "    # compute the delta\n",
    "    delta = 0.01 * m_grad\n",
    "    # update `m`\n",
    "    m -= delta\n",
    "    \n",
    "    print(\"m: {:.2f} mse: {:.2f} grad: {:.2f}\".format(m, mse, m_grad))"
   ]
  },
  {
   "cell_type": "code",
   "execution_count": null,
   "metadata": {},
   "outputs": [],
   "source": []
  },
  {
   "cell_type": "code",
   "execution_count": null,
   "metadata": {},
   "outputs": [],
   "source": []
  }
 ],
 "metadata": {
  "kernelspec": {
   "display_name": "Python 3",
   "language": "python",
   "name": "python3"
  },
  "language_info": {
   "codemirror_mode": {
    "name": "ipython",
    "version": 3
   },
   "file_extension": ".py",
   "mimetype": "text/x-python",
   "name": "python",
   "nbconvert_exporter": "python",
   "pygments_lexer": "ipython3",
   "version": "3.6.5"
  }
 },
 "nbformat": 4,
 "nbformat_minor": 2
}
