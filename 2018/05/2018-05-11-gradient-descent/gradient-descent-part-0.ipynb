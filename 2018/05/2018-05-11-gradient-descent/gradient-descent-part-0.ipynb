{
 "cells": [
  {
   "cell_type": "markdown",
   "metadata": {},
   "source": [
    "### Imports"
   ]
  },
  {
   "cell_type": "code",
   "execution_count": 9,
   "metadata": {},
   "outputs": [],
   "source": [
    "import numpy as np\n",
    "import matplotlib.pyplot as plt\n",
    "%matplotlib inline"
   ]
  },
  {
   "cell_type": "markdown",
   "metadata": {},
   "source": [
    "### Generate Data"
   ]
  },
  {
   "cell_type": "code",
   "execution_count": 10,
   "metadata": {},
   "outputs": [],
   "source": [
    "x = np.arange(-7, 5)\n",
    "y = ((x + 3) ** 2) + 10\n",
    "z = (2*x) + 6"
   ]
  },
  {
   "cell_type": "markdown",
   "metadata": {},
   "source": [
    "### View Data"
   ]
  },
  {
   "cell_type": "code",
   "execution_count": 11,
   "metadata": {},
   "outputs": [
    {
     "name": "stdout",
     "output_type": "stream",
     "text": [
      "[-7 -6 -5 -4 -3 -2 -1  0  1  2  3  4]\n",
      "[26 19 14 11 10 11 14 19 26 35 46 59]\n",
      "[-8 -6 -4 -2  0  2  4  6  8 10 12 14]\n"
     ]
    }
   ],
   "source": [
    "print(x)\n",
    "print(y)\n",
    "print(z)"
   ]
  },
  {
   "cell_type": "markdown",
   "metadata": {},
   "source": [
    "### Plot Data"
   ]
  },
  {
   "cell_type": "code",
   "execution_count": 12,
   "metadata": {},
   "outputs": [
    {
     "data": {
      "text/plain": [
       "<matplotlib.lines.Line2D at 0x11b9be400>"
      ]
     },
     "execution_count": 12,
     "metadata": {},
     "output_type": "execute_result"
    },
    {
     "data": {
      "image/png": "[encoded data removed]",
      "text/plain": [
       "<Figure size 432x288 with 1 Axes>"
      ]
     },
     "metadata": {},
     "output_type": "display_data"
    }
   ],
   "source": [
    "plt.scatter(x,y);\n",
    "plt.scatter(x,z, marker='+')\n",
    "plt.axvline(-3)\n",
    "plt.axvline(2, c='red');\n",
    "plt.axhline(0, c='green')"
   ]
  },
  {
   "cell_type": "markdown",
   "metadata": {},
   "source": [
    "### Loss and Gradient functions"
   ]
  },
  {
   "cell_type": "code",
   "execution_count": 13,
   "metadata": {},
   "outputs": [],
   "source": [
    "loss  = lambda x: ((x + 3) ** 2) + 10\n",
    "slope = lambda x: (2*x) + 6"
   ]
  },
  {
   "cell_type": "markdown",
   "metadata": {},
   "source": [
    "### Gradient Descent"
   ]
  },
  {
   "cell_type": "markdown",
   "metadata": {},
   "source": [
    "- Start `x` at 2\n",
    "- Compute loss\n",
    "- Compute the slope\n",
    "- Subtract `x` from the product of slope by the learning rate\n",
    "- Loop again... 20 times until loss begins to plateau"
   ]
  },
  {
   "cell_type": "code",
   "execution_count": 14,
   "metadata": {},
   "outputs": [
    {
     "name": "stdout",
     "output_type": "stream",
     "text": [
      "loss: 35.00 slope: 10.00 delta: 1.00 x: 1.0000\n",
      "loss: 26.00 slope: 8.00 delta: 0.80 x: 0.2000\n",
      "loss: 20.24 slope: 6.40 delta: 0.64 x: -0.4400\n",
      "loss: 16.55 slope: 5.12 delta: 0.51 x: -0.9520\n",
      "loss: 14.19 slope: 4.10 delta: 0.41 x: -1.3616\n",
      "loss: 12.68 slope: 3.28 delta: 0.33 x: -1.6893\n",
      "loss: 11.72 slope: 2.62 delta: 0.26 x: -1.9514\n",
      "loss: 11.10 slope: 2.10 delta: 0.21 x: -2.1611\n",
      "loss: 10.70 slope: 1.68 delta: 0.17 x: -2.3289\n",
      "loss: 10.45 slope: 1.34 delta: 0.13 x: -2.4631\n",
      "loss: 10.29 slope: 1.07 delta: 0.11 x: -2.5705\n",
      "loss: 10.18 slope: 0.86 delta: 0.09 x: -2.6564\n",
      "loss: 10.12 slope: 0.69 delta: 0.07 x: -2.7251\n",
      "loss: 10.08 slope: 0.55 delta: 0.05 x: -2.7801\n",
      "loss: 10.05 slope: 0.44 delta: 0.04 x: -2.8241\n",
      "loss: 10.03 slope: 0.35 delta: 0.04 x: -2.8593\n",
      "loss: 10.02 slope: 0.28 delta: 0.03 x: -2.8874\n",
      "loss: 10.01 slope: 0.23 delta: 0.02 x: -2.9099\n",
      "loss: 10.01 slope: 0.18 delta: 0.02 x: -2.9279\n",
      "loss: 10.01 slope: 0.14 delta: 0.01 x: -2.9424\n"
     ]
    }
   ],
   "source": [
    "position = 2\n",
    "for e in range(20):\n",
    "    l = loss(position)\n",
    "    s = slope(position)\n",
    "    \n",
    "    delta = (0.1 * s)\n",
    "    position -= delta\n",
    "    \n",
    "    print(\"loss: {:.2f} slope: {:.2f} delta: {:.2f} x: {:.4f}\".format(l, s, delta, position))"
   ]
  },
  {
   "cell_type": "code",
   "execution_count": null,
   "metadata": {},
   "outputs": [],
   "source": []
  }
 ],
 "metadata": {
  "kernelspec": {
   "display_name": "Python 3",
   "language": "python",
   "name": "python3"
  },
  "language_info": {
   "codemirror_mode": {
    "name": "ipython",
    "version": 3
   },
   "file_extension": ".py",
   "mimetype": "text/x-python",
   "name": "python",
   "nbconvert_exporter": "python",
   "pygments_lexer": "ipython3",
   "version": "3.6.5"
  }
 },
 "nbformat": 4,
 "nbformat_minor": 2
}
