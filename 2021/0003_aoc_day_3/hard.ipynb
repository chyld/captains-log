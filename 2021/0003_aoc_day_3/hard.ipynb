{
 "cells": [
  {
   "cell_type": "code",
   "execution_count": 1,
   "id": "604d3b27-f6ac-4200-9f73-5d3493085153",
   "metadata": {},
   "outputs": [],
   "source": [
    "import numpy as np\n",
    "from collections import Counter"
   ]
  },
  {
   "cell_type": "code",
   "execution_count": 2,
   "id": "cca34a3d-0163-4081-bc01-eb09d2cabd75",
   "metadata": {},
   "outputs": [],
   "source": [
    "def get_data():\n",
    "    matrix = np.zeros((1000,12)).astype(np.uint8)\n",
    "    with open('hard.txt') as f:\n",
    "        for i, line in enumerate(f):\n",
    "            row = list(map(int, line.strip()))\n",
    "            matrix[i] = row\n",
    "    return matrix"
   ]
  },
  {
   "cell_type": "code",
   "execution_count": 3,
   "id": "5da43a68-746f-49db-af6d-d0512b7af421",
   "metadata": {},
   "outputs": [],
   "source": [
    "def filter_matrix(matrix, position, tie, least_common=True):\n",
    "    if matrix.shape[0] == 1: return matrix\n",
    "    c = Counter(matrix[:,position])\n",
    "    if c.most_common()[0][1] != c.most_common()[1][1]:\n",
    "        value = c.most_common()[least_common][0]\n",
    "    else:\n",
    "        value = tie\n",
    "    return matrix[matrix[:,position] == value]"
   ]
  },
  {
   "cell_type": "code",
   "execution_count": 4,
   "id": "e8b57849-e2f3-4252-826b-5c42872c0e41",
   "metadata": {},
   "outputs": [
    {
     "data": {
      "text/plain": [
       "3399"
      ]
     },
     "execution_count": 4,
     "metadata": {},
     "output_type": "execute_result"
    }
   ],
   "source": [
    "matrix = get_data()\n",
    "for i in range(12):\n",
    "    matrix = filter_matrix(matrix, i, 1, False)\n",
    "(matrix * [2**i for i in range(11, -1, -1)]).sum()"
   ]
  },
  {
   "cell_type": "code",
   "execution_count": 5,
   "id": "71c7e917-c9bd-4667-8cde-1edf5144dc43",
   "metadata": {},
   "outputs": [
    {
     "data": {
      "text/plain": [
       "1249"
      ]
     },
     "execution_count": 5,
     "metadata": {},
     "output_type": "execute_result"
    }
   ],
   "source": [
    "matrix = get_data()\n",
    "for i in range(12):\n",
    "    matrix = filter_matrix(matrix, i, 0, True)\n",
    "(matrix * [2**i for i in range(11, -1, -1)]).sum()"
   ]
  },
  {
   "cell_type": "code",
   "execution_count": null,
   "id": "48611fd3-080c-44a9-b0b0-852b5cf8275a",
   "metadata": {},
   "outputs": [],
   "source": []
  }
 ],
 "metadata": {
  "kernelspec": {
   "display_name": "Python 3 (ipykernel)",
   "language": "python",
   "name": "python3"
  },
  "language_info": {
   "codemirror_mode": {
    "name": "ipython",
    "version": 3
   },
   "file_extension": ".py",
   "mimetype": "text/x-python",
   "name": "python",
   "nbconvert_exporter": "python",
   "pygments_lexer": "ipython3",
   "version": "3.10.0"
  }
 },
 "nbformat": 4,
 "nbformat_minor": 5
}
