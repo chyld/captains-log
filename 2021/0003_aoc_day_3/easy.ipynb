{
 "cells": [
  {
   "cell_type": "code",
   "execution_count": 1,
   "id": "ee086eff-77ea-4488-9a4a-c60e105f6edb",
   "metadata": {},
   "outputs": [],
   "source": [
    "RAW = \"\"\"00100\n",
    "11110\n",
    "10110\n",
    "10111\n",
    "10101\n",
    "01111\n",
    "00111\n",
    "11100\n",
    "10000\n",
    "11001\n",
    "00010\n",
    "01010\"\"\""
   ]
  },
  {
   "cell_type": "code",
   "execution_count": 2,
   "id": "1ec7175e-dc87-415e-8114-1c04cfca6e59",
   "metadata": {},
   "outputs": [],
   "source": [
    "import numpy as np"
   ]
  },
  {
   "cell_type": "code",
   "execution_count": 3,
   "id": "f51b51cd-0c10-454d-a7b3-b40f8249d151",
   "metadata": {},
   "outputs": [],
   "source": [
    "m = []\n",
    "with open('easy.txt') as f:\n",
    "    for line in f:\n",
    "        m.append(list(map(lambda b: int(b), line.strip())))\n",
    "m = np.array(m)"
   ]
  },
  {
   "cell_type": "code",
   "execution_count": 4,
   "id": "fa1fec93-376a-457f-b4a7-3508992ffd3b",
   "metadata": {},
   "outputs": [
    {
     "data": {
      "text/plain": [
       "array([[0, 1, 0, 0, 0, 1, 1, 1, 0, 0, 0, 1],\n",
       "       [1, 1, 0, 1, 0, 0, 0, 0, 0, 0, 0, 1],\n",
       "       [1, 1, 1, 0, 0, 1, 0, 0, 1, 0, 1, 1]])"
      ]
     },
     "execution_count": 4,
     "metadata": {},
     "output_type": "execute_result"
    }
   ],
   "source": [
    "m[:3]"
   ]
  },
  {
   "cell_type": "code",
   "execution_count": 5,
   "id": "857ced31-265d-4fd4-97e3-a67ea41bed0e",
   "metadata": {},
   "outputs": [],
   "source": [
    "gamma = (((m.sum(axis=0) / m.shape[0]) > 0.5).astype(int)* [2**i for i in range(m.shape[1] - 1,-1,-1)]).sum()"
   ]
  },
  {
   "cell_type": "code",
   "execution_count": 6,
   "id": "eaf5c1d0-2ae8-4c5c-86d2-b3cf6f85b927",
   "metadata": {},
   "outputs": [],
   "source": [
    "epsilon = (((m.sum(axis=0) / m.shape[0]) < 0.5).astype(int)* [2**i for i in range(m.shape[1] - 1,-1,-1)]).sum()"
   ]
  },
  {
   "cell_type": "code",
   "execution_count": 7,
   "id": "abff0bec-80c8-4d2b-a2bc-76589efc586c",
   "metadata": {},
   "outputs": [
    {
     "data": {
      "text/plain": [
       "4103154"
      ]
     },
     "execution_count": 7,
     "metadata": {},
     "output_type": "execute_result"
    }
   ],
   "source": [
    "gamma * epsilon"
   ]
  },
  {
   "cell_type": "code",
   "execution_count": null,
   "id": "a6508167-f4a3-4714-93a0-0b74d1832df9",
   "metadata": {},
   "outputs": [],
   "source": []
  }
 ],
 "metadata": {
  "kernelspec": {
   "display_name": "Python 3 (ipykernel)",
   "language": "python",
   "name": "python3"
  },
  "language_info": {
   "codemirror_mode": {
    "name": "ipython",
    "version": 3
   },
   "file_extension": ".py",
   "mimetype": "text/x-python",
   "name": "python",
   "nbconvert_exporter": "python",
   "pygments_lexer": "ipython3",
   "version": "3.10.0"
  }
 },
 "nbformat": 4,
 "nbformat_minor": 5
}
